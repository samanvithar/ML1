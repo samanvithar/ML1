{
 "cells": [
  {
   "cell_type": "code",
   "execution_count": 34,
   "id": "7bf2368f",
   "metadata": {},
   "outputs": [],
   "source": [
    "import numpy as np\n",
    "import pandas as pd\n",
    "from sklearn.cluster import KMeans\n",
    "from kmodes.kmodes import KModes\n",
    "from sklearn.preprocessing import LabelEncoder,OneHotEncoder"
   ]
  },
  {
   "cell_type": "code",
   "execution_count": 35,
   "id": "62f096c8",
   "metadata": {},
   "outputs": [],
   "source": [
    "df= pd.DataFrame({\n",
    "    'Gender': ['Male', 'Female', 'Male', 'Female', 'Male', 'Female', 'Female', 'Male'],\n",
    "    'Occupation': ['Engineer', 'Doctor', 'Artist', 'Lawyer', 'Engineer', 'Artist', 'Doctor', 'Lawyer']\n",
    "})"
   ]
  },
  {
   "cell_type": "code",
   "execution_count": 39,
   "id": "941333b3",
   "metadata": {},
   "outputs": [],
   "source": [
    "df['age']=[35,34,54,56,45,34,45,45]\n",
    "df['income']=[10000,11000,15000,30000,35000,40000,60000,65000]\n",
    "df['loc']=['klb','blg','klb','blg','mys','klg','blg','klg']"
   ]
  },
  {
   "cell_type": "code",
   "execution_count": 40,
   "id": "6d16b7df",
   "metadata": {},
   "outputs": [],
   "source": [
    "model=KModes(n_clusters=2)"
   ]
  },
  {
   "cell_type": "code",
   "execution_count": 41,
   "id": "da226166",
   "metadata": {},
   "outputs": [
    {
     "data": {
      "text/plain": [
       "array([1, 0, 1, 0, 1, 0, 0, 1], dtype=uint16)"
      ]
     },
     "execution_count": 41,
     "metadata": {},
     "output_type": "execute_result"
    }
   ],
   "source": [
    "model.fit_predict(df)"
   ]
  }
 ],
 "metadata": {
  "kernelspec": {
   "display_name": "Python 3",
   "language": "python",
   "name": "python3"
  },
  "language_info": {
   "codemirror_mode": {
    "name": "ipython",
    "version": 3
   },
   "file_extension": ".py",
   "mimetype": "text/x-python",
   "name": "python",
   "nbconvert_exporter": "python",
   "pygments_lexer": "ipython3",
   "version": "3.13.2"
  }
 },
 "nbformat": 4,
 "nbformat_minor": 5
}
