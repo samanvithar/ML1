{
 "cells": [
  {
   "cell_type": "code",
   "execution_count": 26,
   "id": "c11d9b47",
   "metadata": {},
   "outputs": [],
   "source": [
    "import numpy as np\n",
    "import pandas as pd\n",
    "from sklearn.cluster import KMeans\n",
    "from kmodes.kmodes import KModes\n",
    "from kmodes.kprototypes import KPrototypes\n",
    "from sklearn.preprocessing import LabelEncoder,OneHotEncoder\n",
    "from sklearn.impute import SimpleImputer\n"
   ]
  },
  {
   "cell_type": "code",
   "execution_count": 27,
   "id": "dc9d8574",
   "metadata": {},
   "outputs": [],
   "source": [
    "df=pd.read_csv('heart_disease.csv')"
   ]
  },
  {
   "cell_type": "code",
   "execution_count": 28,
   "id": "4abdc7ba",
   "metadata": {},
   "outputs": [
    {
     "name": "stdout",
     "output_type": "stream",
     "text": [
      "<class 'pandas.core.frame.DataFrame'>\n",
      "RangeIndex: 920 entries, 0 to 919\n",
      "Data columns (total 15 columns):\n",
      " #   Column    Non-Null Count  Dtype  \n",
      "---  ------    --------------  -----  \n",
      " 0   id        920 non-null    int64  \n",
      " 1   age       920 non-null    int64  \n",
      " 2   sex       920 non-null    object \n",
      " 3   dataset   920 non-null    object \n",
      " 4   cp        920 non-null    object \n",
      " 5   trestbps  861 non-null    float64\n",
      " 6   chol      890 non-null    float64\n",
      " 7   fbs       830 non-null    object \n",
      " 8   restecg   918 non-null    object \n",
      " 9   thalch    865 non-null    float64\n",
      " 10  exang     865 non-null    object \n",
      " 11  oldpeak   858 non-null    float64\n",
      " 12  slope     611 non-null    object \n",
      " 13  ca        309 non-null    float64\n",
      " 14  thal      434 non-null    object \n",
      "dtypes: float64(5), int64(2), object(8)\n",
      "memory usage: 107.9+ KB\n"
     ]
    }
   ],
   "source": [
    "df.info()"
   ]
  },
  {
   "cell_type": "code",
   "execution_count": 29,
   "id": "8768899a",
   "metadata": {},
   "outputs": [],
   "source": [
    "df=df.dropna(axis=0)"
   ]
  },
  {
   "cell_type": "code",
   "execution_count": 30,
   "id": "2ceadeb7",
   "metadata": {},
   "outputs": [
    {
     "name": "stdout",
     "output_type": "stream",
     "text": [
      "<class 'pandas.core.frame.DataFrame'>\n",
      "Index: 299 entries, 0 to 748\n",
      "Data columns (total 15 columns):\n",
      " #   Column    Non-Null Count  Dtype  \n",
      "---  ------    --------------  -----  \n",
      " 0   id        299 non-null    int64  \n",
      " 1   age       299 non-null    int64  \n",
      " 2   sex       299 non-null    object \n",
      " 3   dataset   299 non-null    object \n",
      " 4   cp        299 non-null    object \n",
      " 5   trestbps  299 non-null    float64\n",
      " 6   chol      299 non-null    float64\n",
      " 7   fbs       299 non-null    object \n",
      " 8   restecg   299 non-null    object \n",
      " 9   thalch    299 non-null    float64\n",
      " 10  exang     299 non-null    object \n",
      " 11  oldpeak   299 non-null    float64\n",
      " 12  slope     299 non-null    object \n",
      " 13  ca        299 non-null    float64\n",
      " 14  thal      299 non-null    object \n",
      "dtypes: float64(5), int64(2), object(8)\n",
      "memory usage: 37.4+ KB\n"
     ]
    }
   ],
   "source": [
    "df.info()\n"
   ]
  },
  {
   "cell_type": "code",
   "execution_count": 31,
   "id": "d5c13446",
   "metadata": {},
   "outputs": [],
   "source": [
    "cat_col=[2,3,4,7,8,10,12,14]"
   ]
  },
  {
   "cell_type": "code",
   "execution_count": 34,
   "id": "491a3572",
   "metadata": {},
   "outputs": [],
   "source": [
    "model2=KPrototypes(n_clusters=2)\n",
    "df['Cluster']=model2.fit_predict(df,categorical=cat_col)\n"
   ]
  },
  {
   "cell_type": "code",
   "execution_count": 40,
   "id": "4057a455",
   "metadata": {},
   "outputs": [],
   "source": [
    "val=df[['id','Cluster']]"
   ]
  },
  {
   "cell_type": "code",
   "execution_count": 46,
   "id": "5f2f92fb",
   "metadata": {},
   "outputs": [],
   "source": [
    "val.to_csv('../submission1.csv',index=False)"
   ]
  },
  {
   "cell_type": "code",
   "execution_count": 44,
   "id": "417e968b",
   "metadata": {},
   "outputs": [
    {
     "data": {
      "text/plain": [
       "0        0\n",
       "1        1\n",
       "2        2\n",
       "3        3\n",
       "4        4\n",
       "      ... \n",
       "294    299\n",
       "295    300\n",
       "296    301\n",
       "297    508\n",
       "298    748\n",
       "Name: id, Length: 299, dtype: int64"
      ]
     },
     "execution_count": 44,
     "metadata": {},
     "output_type": "execute_result"
    }
   ],
   "source": [
    "df['id']"
   ]
  },
  {
   "cell_type": "code",
   "execution_count": null,
   "id": "a4005f07",
   "metadata": {},
   "outputs": [],
   "source": []
  }
 ],
 "metadata": {
  "kernelspec": {
   "display_name": "Python 3",
   "language": "python",
   "name": "python3"
  },
  "language_info": {
   "codemirror_mode": {
    "name": "ipython",
    "version": 3
   },
   "file_extension": ".py",
   "mimetype": "text/x-python",
   "name": "python",
   "nbconvert_exporter": "python",
   "pygments_lexer": "ipython3",
   "version": "3.13.2"
  }
 },
 "nbformat": 4,
 "nbformat_minor": 5
}
