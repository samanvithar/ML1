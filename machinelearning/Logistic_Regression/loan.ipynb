{
 "cells": [
  {
   "cell_type": "code",
   "execution_count": 44,
   "id": "07efa6b6",
   "metadata": {},
   "outputs": [],
   "source": [
    "import numpy as np\n",
    "import pandas as pd\n",
    "import matplotlib.pyplot as plt\n",
    "import seaborn as sns\n",
    "import sklearn\n",
    "from sklearn.model_selection import train_test_split\n",
    "from sklearn.linear_model import LinearRegression,LogisticRegression\n",
    "from sklearn.preprocessing import LabelEncoder,OneHotEncoder"
   ]
  },
  {
   "cell_type": "code",
   "execution_count": 45,
   "id": "7ea2be97",
   "metadata": {},
   "outputs": [
    {
     "data": {
      "text/html": [
       "<div>\n",
       "<style scoped>\n",
       "    .dataframe tbody tr th:only-of-type {\n",
       "        vertical-align: middle;\n",
       "    }\n",
       "\n",
       "    .dataframe tbody tr th {\n",
       "        vertical-align: top;\n",
       "    }\n",
       "\n",
       "    .dataframe thead th {\n",
       "        text-align: right;\n",
       "    }\n",
       "</style>\n",
       "<table border=\"1\" class=\"dataframe\">\n",
       "  <thead>\n",
       "    <tr style=\"text-align: right;\">\n",
       "      <th></th>\n",
       "      <th>Age</th>\n",
       "      <th>Salary</th>\n",
       "      <th>Credit_Score</th>\n",
       "      <th>Loan_Amount</th>\n",
       "      <th>Loan_Term</th>\n",
       "      <th>Employment_Status</th>\n",
       "      <th>Residence_Type</th>\n",
       "      <th>Previous_Default</th>\n",
       "      <th>Loan_Approved</th>\n",
       "    </tr>\n",
       "  </thead>\n",
       "  <tbody>\n",
       "    <tr>\n",
       "      <th>0</th>\n",
       "      <td>56</td>\n",
       "      <td>136748</td>\n",
       "      <td>584</td>\n",
       "      <td>38209</td>\n",
       "      <td>36 months</td>\n",
       "      <td>Employed</td>\n",
       "      <td>Owned</td>\n",
       "      <td>Yes</td>\n",
       "      <td>Yes</td>\n",
       "    </tr>\n",
       "    <tr>\n",
       "      <th>1</th>\n",
       "      <td>46</td>\n",
       "      <td>25287</td>\n",
       "      <td>815</td>\n",
       "      <td>27424</td>\n",
       "      <td>24 months</td>\n",
       "      <td>Self-Employed</td>\n",
       "      <td>Rented</td>\n",
       "      <td>No</td>\n",
       "      <td>Yes</td>\n",
       "    </tr>\n",
       "    <tr>\n",
       "      <th>2</th>\n",
       "      <td>32</td>\n",
       "      <td>146593</td>\n",
       "      <td>398</td>\n",
       "      <td>42396</td>\n",
       "      <td>12 months</td>\n",
       "      <td>Unemployed</td>\n",
       "      <td>Rented</td>\n",
       "      <td>Yes</td>\n",
       "      <td>Yes</td>\n",
       "    </tr>\n",
       "    <tr>\n",
       "      <th>3</th>\n",
       "      <td>60</td>\n",
       "      <td>54387</td>\n",
       "      <td>696</td>\n",
       "      <td>11370</td>\n",
       "      <td>24 months</td>\n",
       "      <td>Unemployed</td>\n",
       "      <td>Owned</td>\n",
       "      <td>No</td>\n",
       "      <td>No</td>\n",
       "    </tr>\n",
       "    <tr>\n",
       "      <th>4</th>\n",
       "      <td>25</td>\n",
       "      <td>28512</td>\n",
       "      <td>788</td>\n",
       "      <td>14528</td>\n",
       "      <td>12 months</td>\n",
       "      <td>Employed</td>\n",
       "      <td>Owned</td>\n",
       "      <td>No</td>\n",
       "      <td>No</td>\n",
       "    </tr>\n",
       "    <tr>\n",
       "      <th>...</th>\n",
       "      <td>...</td>\n",
       "      <td>...</td>\n",
       "      <td>...</td>\n",
       "      <td>...</td>\n",
       "      <td>...</td>\n",
       "      <td>...</td>\n",
       "      <td>...</td>\n",
       "      <td>...</td>\n",
       "      <td>...</td>\n",
       "    </tr>\n",
       "    <tr>\n",
       "      <th>995</th>\n",
       "      <td>22</td>\n",
       "      <td>49241</td>\n",
       "      <td>500</td>\n",
       "      <td>41020</td>\n",
       "      <td>24 months</td>\n",
       "      <td>Self-Employed</td>\n",
       "      <td>Owned</td>\n",
       "      <td>No</td>\n",
       "      <td>Yes</td>\n",
       "    </tr>\n",
       "    <tr>\n",
       "      <th>996</th>\n",
       "      <td>40</td>\n",
       "      <td>116214</td>\n",
       "      <td>423</td>\n",
       "      <td>12415</td>\n",
       "      <td>48 months</td>\n",
       "      <td>Self-Employed</td>\n",
       "      <td>Owned</td>\n",
       "      <td>No</td>\n",
       "      <td>Yes</td>\n",
       "    </tr>\n",
       "    <tr>\n",
       "      <th>997</th>\n",
       "      <td>27</td>\n",
       "      <td>64569</td>\n",
       "      <td>300</td>\n",
       "      <td>28155</td>\n",
       "      <td>36 months</td>\n",
       "      <td>Self-Employed</td>\n",
       "      <td>Rented</td>\n",
       "      <td>Yes</td>\n",
       "      <td>Yes</td>\n",
       "    </tr>\n",
       "    <tr>\n",
       "      <th>998</th>\n",
       "      <td>61</td>\n",
       "      <td>31745</td>\n",
       "      <td>490</td>\n",
       "      <td>48884</td>\n",
       "      <td>12 months</td>\n",
       "      <td>Self-Employed</td>\n",
       "      <td>Mortgage</td>\n",
       "      <td>No</td>\n",
       "      <td>Yes</td>\n",
       "    </tr>\n",
       "    <tr>\n",
       "      <th>999</th>\n",
       "      <td>19</td>\n",
       "      <td>46029</td>\n",
       "      <td>815</td>\n",
       "      <td>21964</td>\n",
       "      <td>24 months</td>\n",
       "      <td>Employed</td>\n",
       "      <td>Mortgage</td>\n",
       "      <td>Yes</td>\n",
       "      <td>No</td>\n",
       "    </tr>\n",
       "  </tbody>\n",
       "</table>\n",
       "<p>1000 rows × 9 columns</p>\n",
       "</div>"
      ],
      "text/plain": [
       "     Age  Salary  Credit_Score  ...  Residence_Type Previous_Default Loan_Approved\n",
       "0     56  136748           584  ...           Owned              Yes           Yes\n",
       "1     46   25287           815  ...          Rented               No           Yes\n",
       "2     32  146593           398  ...          Rented              Yes           Yes\n",
       "3     60   54387           696  ...           Owned               No            No\n",
       "4     25   28512           788  ...           Owned               No            No\n",
       "..   ...     ...           ...  ...             ...              ...           ...\n",
       "995   22   49241           500  ...           Owned               No           Yes\n",
       "996   40  116214           423  ...           Owned               No           Yes\n",
       "997   27   64569           300  ...          Rented              Yes           Yes\n",
       "998   61   31745           490  ...        Mortgage               No           Yes\n",
       "999   19   46029           815  ...        Mortgage              Yes            No\n",
       "\n",
       "[1000 rows x 9 columns]"
      ]
     },
     "execution_count": 45,
     "metadata": {},
     "output_type": "execute_result"
    }
   ],
   "source": [
    "df=pd.read_csv('loan_approval_dataset.csv')\n",
    "df"
   ]
  },
  {
   "cell_type": "code",
   "execution_count": 46,
   "id": "4f5846e3",
   "metadata": {},
   "outputs": [],
   "source": [
    "df['Loan_Term']=df['Loan_Term'].str.strip(\"months\")"
   ]
  },
  {
   "cell_type": "code",
   "execution_count": 47,
   "id": "8bb6bbe5",
   "metadata": {},
   "outputs": [],
   "source": [
    "X=df.drop('Loan_Approved',axis=1)\n",
    "y=df['Loan_Approved']"
   ]
  },
  {
   "cell_type": "code",
   "execution_count": 48,
   "id": "d5325c7d",
   "metadata": {},
   "outputs": [],
   "source": [
    "label=LabelEncoder()\n",
    "df['Employment_Status']=label.fit_transform(df['Employment_Status'])\n",
    "df['Residence_Type']=label.fit_transform(df['Residence_Type'])\n",
    "df['Previous_Default']=label.fit_transform(df['Previous_Default'])\n",
    "\n"
   ]
  },
  {
   "cell_type": "code",
   "execution_count": 51,
   "id": "e9c1f436",
   "metadata": {},
   "outputs": [],
   "source": [
    "X=df.drop('Loan_Approved',axis=1)\n",
    "y=df['Loan_Approved']\n",
    "Xtrain,Xtest,ytrain,ytest=train_test_split(X,y,train_size=0.8,random_state=42)"
   ]
  },
  {
   "cell_type": "code",
   "execution_count": 52,
   "id": "8770421c",
   "metadata": {},
   "outputs": [
    {
     "data": {
      "text/plain": [
       "array([906], dtype=int32)"
      ]
     },
     "execution_count": 52,
     "metadata": {},
     "output_type": "execute_result"
    }
   ],
   "source": [
    "model=LogisticRegression(max_iter=10000,random_state=42,n_jobs=-1)\n",
    "model.fit(Xtrain,ytrain)\n",
    "model.n_iter_"
   ]
  },
  {
   "cell_type": "code",
   "execution_count": 53,
   "id": "df42c7c2",
   "metadata": {},
   "outputs": [],
   "source": [
    "predict=model.predict(Xtest)"
   ]
  },
  {
   "cell_type": "code",
   "execution_count": 54,
   "id": "3995003f",
   "metadata": {},
   "outputs": [
    {
     "data": {
      "text/plain": [
       "Loan_Approved\n",
       "Yes    508\n",
       "No     492\n",
       "Name: count, dtype: int64"
      ]
     },
     "execution_count": 54,
     "metadata": {},
     "output_type": "execute_result"
    }
   ],
   "source": [
    "y.value_counts()"
   ]
  },
  {
   "cell_type": "markdown",
   "id": "ac893499",
   "metadata": {},
   "source": [
    "# Model is balanced hence we have to accuracy_score for model evaluation"
   ]
  },
  {
   "cell_type": "code",
   "execution_count": 55,
   "id": "1bdb078b",
   "metadata": {},
   "outputs": [
    {
     "data": {
      "text/plain": [
       "array([[43, 52],\n",
       "       [45, 60]])"
      ]
     },
     "execution_count": 55,
     "metadata": {},
     "output_type": "execute_result"
    }
   ],
   "source": [
    "from sklearn.metrics import confusion_matrix,precision_score,recall_score,accuracy_score,f1_score\n",
    "confusion_matrix(ytest,predict)"
   ]
  },
  {
   "cell_type": "code",
   "execution_count": 56,
   "id": "5829bfb0",
   "metadata": {},
   "outputs": [
    {
     "data": {
      "text/plain": [
       "0.515"
      ]
     },
     "execution_count": 56,
     "metadata": {},
     "output_type": "execute_result"
    }
   ],
   "source": [
    "accuracy_score(ytest,predict)"
   ]
  },
  {
   "cell_type": "code",
   "execution_count": 57,
   "id": "729cc00a",
   "metadata": {},
   "outputs": [
    {
     "data": {
      "text/plain": [
       "0.5357142857142857"
      ]
     },
     "execution_count": 57,
     "metadata": {},
     "output_type": "execute_result"
    }
   ],
   "source": [
    "precision_score(ytest,predict,pos_label='Yes')"
   ]
  },
  {
   "cell_type": "code",
   "execution_count": 58,
   "id": "15253f9f",
   "metadata": {},
   "outputs": [
    {
     "data": {
      "text/plain": [
       "0.5714285714285714"
      ]
     },
     "execution_count": 58,
     "metadata": {},
     "output_type": "execute_result"
    }
   ],
   "source": [
    "recall_score(ytest,predict,pos_label='Yes')"
   ]
  },
  {
   "cell_type": "code",
   "execution_count": 59,
   "id": "a1652e5b",
   "metadata": {},
   "outputs": [
    {
     "data": {
      "text/plain": [
       "0.5529953917050692"
      ]
     },
     "execution_count": 59,
     "metadata": {},
     "output_type": "execute_result"
    }
   ],
   "source": [
    "f1_score(ytest,predict,pos_label='Yes')"
   ]
  }
 ],
 "metadata": {
  "kernelspec": {
   "display_name": "Python 3",
   "language": "python",
   "name": "python3"
  },
  "language_info": {
   "codemirror_mode": {
    "name": "ipython",
    "version": 3
   },
   "file_extension": ".py",
   "mimetype": "text/x-python",
   "name": "python",
   "nbconvert_exporter": "python",
   "pygments_lexer": "ipython3",
   "version": "3.13.2"
  }
 },
 "nbformat": 4,
 "nbformat_minor": 5
}
